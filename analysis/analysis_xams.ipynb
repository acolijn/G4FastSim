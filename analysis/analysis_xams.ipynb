{
 "cells": [
  {
   "cell_type": "markdown",
   "metadata": {},
   "source": [
    "#### Data analysis notebook\n",
    "\n",
    "Reads in the data files and plot results\n",
    "\n"
   ]
  },
  {
   "cell_type": "code",
   "execution_count": null,
   "metadata": {},
   "outputs": [],
   "source": [
    "from RunManager import RunManager\n",
    "from Geant4Analyzer import Geant4Analyzer\n",
    "from XAMSPlotter import XAMSPlotter\n",
    "import matplotlib.pyplot as plt"
   ]
  },
  {
   "cell_type": "code",
   "execution_count": null,
   "metadata": {},
   "outputs": [],
   "source": [
    "manager = RunManager(\"../run/rundb.json\")\n",
    "display(manager.display_all_runs(include_deleted=False))"
   ]
  },
  {
   "cell_type": "code",
   "execution_count": null,
   "metadata": {},
   "outputs": [],
   "source": [
    "# cut on the global event variables\n",
    "gxe = 0 # gaseous xenon\n",
    "lxe = 1 # liquid xenon\n",
    "nai = 2 # NaI detector\n",
    "\n",
    "cut = lambda data: (data['ndet'][:,lxe] ==1)\n",
    "# additional cuts on the clusters\n",
    "cut_hit = lambda data: (data['eh'] > 0.) & (data['id'] >-1)\n",
    "\n",
    "std = Geant4Analyzer(\"run_05\", first_only=False)\n",
    "std.preprocess_data(cut=cut, cut_hit=cut_hit)\n"
   ]
  },
  {
   "cell_type": "code",
   "execution_count": null,
   "metadata": {},
   "outputs": [],
   "source": [
    "# 2D plot with log color scale\n",
    "from matplotlib.colors import LogNorm\n",
    "\n",
    "fig, ax = plt.subplots()\n",
    "fig.set_size_inches(5,5)\n",
    "\n",
    "h= ax.hist2d(std.data['xh'], std.data['yh'], bins=500, range=[[-200,200],[-100,300]], cmap='viridis', norm=LogNorm())\n",
    "\n",
    "gpl = XAMSPlotter(std.geometry)\n",
    "gpl.plot_geometry(ax=ax, view = 'xy')\n",
    "\n",
    "plt.show()\n",
    "plt.savefig(\"xams_xy.png\")"
   ]
  },
  {
   "cell_type": "code",
   "execution_count": null,
   "metadata": {},
   "outputs": [],
   "source": [
    "# 2D plot with log color scale\n",
    "import json\n",
    "import matplotlib.pyplot as plt\n",
    "from matplotlib.colors import LogNorm\n",
    "from XAMSPlotter import XAMSPlotter\n",
    "\n",
    "\n",
    "fig, ax = plt.subplots()\n",
    "fig.set_size_inches(5,5)\n",
    "\n",
    "\n",
    "h= ax.hist2d(std.data['r'], std.data['zh'], bins=500, range=[[0,500],[-250,250]], cmap='viridis', norm=LogNorm())\n",
    "ax.plot([0,400],[-25., -25.],'--',color='grey',linewidth=0.5)\n",
    "\n",
    "gpl = XAMSPlotter(std.geometry)\n",
    "gpl.plot_geometry(ax=ax, view = 'rz')\n",
    "\n",
    "\n",
    "plt.show()\n",
    "plt.savefig(\"xams_rz.png\")"
   ]
  }
 ],
 "metadata": {
  "kernelspec": {
   "display_name": "Python 3",
   "language": "python",
   "name": "python3"
  },
  "language_info": {
   "codemirror_mode": {
    "name": "ipython",
    "version": 3
   },
   "file_extension": ".py",
   "mimetype": "text/x-python",
   "name": "python",
   "nbconvert_exporter": "python",
   "pygments_lexer": "ipython3",
   "version": "3.11.9"
  }
 },
 "nbformat": 4,
 "nbformat_minor": 2
}
