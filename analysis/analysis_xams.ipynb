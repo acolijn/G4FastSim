{
 "cells": [
  {
   "cell_type": "markdown",
   "metadata": {},
   "source": [
    "#### Data analysis notebook\n",
    "\n",
    "Reads in the data files and plot results\n",
    "\n"
   ]
  },
  {
   "cell_type": "code",
   "execution_count": null,
   "metadata": {},
   "outputs": [],
   "source": [
    "from RunManager import RunManager\n",
    "from Geant4Analyzer import Geant4Analyzer\n",
    "from XAMSPlotter import XAMSPlotter\n",
    "import matplotlib.pyplot as plt"
   ]
  },
  {
   "cell_type": "markdown",
   "metadata": {},
   "source": [
    "##### Initialize RunManager\n",
    "\n",
    "Reads the runs database and acts as a bookkeeper for the simulations. You can then select runs based on their id's and analyze those simulations"
   ]
  },
  {
   "cell_type": "code",
   "execution_count": null,
   "metadata": {},
   "outputs": [],
   "source": [
    "manager = RunManager(\"../run/rundb.json\")\n",
    "display(manager.display_all_runs(include_deleted=False))"
   ]
  },
  {
   "cell_type": "markdown",
   "metadata": {},
   "source": [
    "##### Process\n",
    "\n",
    "Processing of the selected data. Here also cuts are defined:\n",
    "- **cut** are the cuts on the event/detector level\n",
    "- **cut_hit** are he cuts on the individual hits (actually a hit here is a cluster made in G4Sim)"
   ]
  },
  {
   "cell_type": "code",
   "execution_count": null,
   "metadata": {},
   "outputs": [],
   "source": [
    "# cut on the global event variables\n",
    "gxe = 0 # gaseous xenon\n",
    "lxe = 1 # liquid xenon\n",
    "nai = 2 # NaI detector\n",
    "\n",
    "cut = lambda data: (data['ndet'][:,lxe] ==1)\n",
    "# additional cuts on the clusters\n",
    "cut_hit = lambda data: (data['eh'] > 0.) & (data['id'] >-1)\n",
    "\n",
    "std = Geant4Analyzer(\"run_05\", first_only=True)\n",
    "std.preprocess_data(cut=cut, cut_hit=cut_hit)\n"
   ]
  },
  {
   "cell_type": "markdown",
   "metadata": {},
   "source": [
    "Now you can play with the selected data. In the 2D distributions you have the possibility to plot the detector geometry superimposed to the data. "
   ]
  },
  {
   "cell_type": "code",
   "execution_count": null,
   "metadata": {},
   "outputs": [],
   "source": [
    "# 2D plot with log color scale\n",
    "from matplotlib.colors import LogNorm\n",
    "\n",
    "fig, ax = plt.subplots()\n",
    "fig.set_size_inches(5,5)\n",
    "\n",
    "h= ax.hist2d(std.data['xh'], std.data['yh'], bins=500, range=[[-200,200],[-100,300]], cmap='viridis', norm=LogNorm())\n",
    "\n",
    "gpl = XAMSPlotter(std.geometry)\n",
    "gpl.plot_geometry(ax=ax, view = 'xy')\n",
    "fig.savefig(\"xams_xy.pdf\")\n",
    "\n",
    "plt.show()\n"
   ]
  },
  {
   "cell_type": "code",
   "execution_count": null,
   "metadata": {},
   "outputs": [],
   "source": [
    "# 2D plot with log color scale\n",
    "import json\n",
    "import matplotlib.pyplot as plt\n",
    "from matplotlib.colors import LogNorm\n",
    "from XAMSPlotter import XAMSPlotter\n",
    "\n",
    "\n",
    "fig, ax = plt.subplots()\n",
    "fig.set_size_inches(5,5)\n",
    "\n",
    "\n",
    "h= ax.hist2d(std.data['r'], std.data['zh'], bins=500, range=[[0,500],[-250,250]], cmap='viridis', norm=LogNorm())\n",
    "ax.plot([0,400],[-25., -25.],'--',color='grey',linewidth=0.5)\n",
    "\n",
    "gpl = XAMSPlotter(std.geometry)\n",
    "gpl.plot_geometry(ax=ax, view = 'rz')\n",
    "\n",
    "fig.savefig(\"xams_rz.pdf\")\n",
    "plt.show()\n"
   ]
  },
  {
   "cell_type": "code",
   "execution_count": null,
   "metadata": {},
   "outputs": [],
   "source": [
    "std1=std\n",
    "\n",
    "cut_hit = lambda data: (data['eh'] > 0.) & (data['id'] == 1) & data['r'] < 55 & data['zh'] > -60 & data['zh'] < -10\n",
    "std1.preprocess_data(cut=cut, cut_hit=cut_hit)\n",
    "std1.plot_histogram('eh', bins=1000)"
   ]
  },
  {
   "cell_type": "code",
   "execution_count": null,
   "metadata": {},
   "outputs": [],
   "source": [
    "h = plt.hist(std1.data['eh'], bins=1000, histtype='step', color='black')"
   ]
  },
  {
   "cell_type": "code",
   "execution_count": null,
   "metadata": {},
   "outputs": [],
   "source": [
    "import numpy as np\n",
    "# Assuming std1.data['eh'] is your original energy data\n",
    "data = std1.data['eh']\n",
    "\n",
    "# Calculate the Gaussian noise to add to each data point\n",
    "# 0.05 * data represents 5% energy resolution\n",
    "noise = np.random.normal(0, 0.10 * data, size=data.shape)\n",
    "\n",
    "# Add the noise to the original data to simulate smearing\n",
    "smeared_data = data + noise\n",
    "\n",
    "bins = 100\n",
    "# Plot the original histogram\n",
    "plt.hist(data, bins=bins, histtype='step', color='black', label='Geant4 clusters')\n",
    "\n",
    "# Plot the smeared histogram\n",
    "plt.hist(smeared_data, bins=bins, histtype='step', color='red', linestyle='solid', label='Smeared')\n",
    "plt.yscale('log')\n",
    "plt.xlabel('Energy (keV)')\n",
    "plt.legend(frameon=False)\n",
    "\n",
    "plt.savefig(\"energy_resolution.pdf\")"
   ]
  },
  {
   "cell_type": "code",
   "execution_count": null,
   "metadata": {},
   "outputs": [],
   "source": []
  }
 ],
 "metadata": {
  "kernelspec": {
   "display_name": "Python 3",
   "language": "python",
   "name": "python3"
  },
  "language_info": {
   "codemirror_mode": {
    "name": "ipython",
    "version": 3
   },
   "file_extension": ".py",
   "mimetype": "text/x-python",
   "name": "python",
   "nbconvert_exporter": "python",
   "pygments_lexer": "ipython3",
   "version": "3.11.9"
  }
 },
 "nbformat": 4,
 "nbformat_minor": 2
}
