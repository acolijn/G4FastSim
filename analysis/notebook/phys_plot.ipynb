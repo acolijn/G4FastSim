{
 "cells": [
  {
   "cell_type": "markdown",
   "metadata": {},
   "source": [
    "## Plot the Geant4 physics\n",
    "\n",
    "This notebook uses **PhysPlotter.py** to show the physics that Geant4 uses to simulate gama ray interactions"
   ]
  },
  {
   "cell_type": "code",
   "execution_count": null,
   "metadata": {},
   "outputs": [],
   "source": [
    "from RunManager import RunManager\n",
    "from PhysPlotter import PhysPlotter\n",
    "\n",
    "manager = RunManager(\"../../run/rundb.json\") \n",
    "manager.display_all_runs(detector_type=\"xams\")"
   ]
  },
  {
   "cell_type": "code",
   "execution_count": null,
   "metadata": {},
   "outputs": [],
   "source": [
    "# manager.delete_run(\"run_11\")"
   ]
  },
  {
   "cell_type": "markdown",
   "metadata": {},
   "source": [
    "#### Select the run"
   ]
  },
  {
   "cell_type": "code",
   "execution_count": null,
   "metadata": {},
   "outputs": [],
   "source": [
    "phys = PhysPlotter('run_11')"
   ]
  },
  {
   "cell_type": "markdown",
   "metadata": {},
   "source": [
    "#### Cross section\n",
    "\n",
    "Cross section as a function of energy in barns."
   ]
  },
  {
   "cell_type": "code",
   "execution_count": null,
   "metadata": {},
   "outputs": [],
   "source": [
    "ax = phys.plot_sigma(material=\"LXe\")\n"
   ]
  },
  {
   "cell_type": "markdown",
   "metadata": {},
   "source": [
    "#### Linear attenuation length\n",
    "\n",
    "These are available for all materials that have been defiend in materials.json. Geant4 calculates the linear attenuation length and stores teh data during initialization of the geometry."
   ]
  },
  {
   "cell_type": "code",
   "execution_count": null,
   "metadata": {},
   "outputs": [],
   "source": [
    "# select some of yor favourite materials..... and plot the attentuation length\n",
    "ax = phys.plot_attenuation(material=\"LXe\", linecolor='blue')\n",
    "ax = phys.plot_attenuation(material=\"GXe\", linecolor='green', ax=ax)\n",
    "ax = phys.plot_attenuation(material=\"PTFE\", linecolor='grey', linestyle='-.',ax=ax)\n",
    "ax = phys.plot_attenuation(material=\"G4_AIR\",linecolor='grey', linestyle=':',ax=ax)\n",
    "ax = phys.plot_attenuation(material=\"G4_Pb\",linecolor='grey', linestyle='--',ax=ax)\n",
    "ax = phys.plot_attenuation(material=\"StainlessSteel\",linecolor='grey',linestyle=(0, (2,1,2,1)),ax=ax)\n",
    "\n",
    "ax.set_title(\"\")"
   ]
  }
 ],
 "metadata": {
  "kernelspec": {
   "display_name": "Python 3",
   "language": "python",
   "name": "python3"
  },
  "language_info": {
   "codemirror_mode": {
    "name": "ipython",
    "version": 3
   },
   "file_extension": ".py",
   "mimetype": "text/x-python",
   "name": "python",
   "nbconvert_exporter": "python",
   "pygments_lexer": "ipython3",
   "version": "3.11.9"
  }
 },
 "nbformat": 4,
 "nbformat_minor": 2
}
