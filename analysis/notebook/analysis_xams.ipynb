{
 "cells": [
  {
   "cell_type": "markdown",
   "metadata": {},
   "source": [
    "#### Data analysis notebook\n",
    "\n",
    "Reads in the data files and plot results\n",
    "\n"
   ]
  },
  {
   "cell_type": "code",
   "execution_count": null,
   "metadata": {},
   "outputs": [],
   "source": [
    "from RunManager import RunManager\n",
    "from Geant4Analyzer import Geant4Analyzer\n",
    "from XAMSPlotter import XAMSPlotter\n",
    "import matplotlib.pyplot as plt"
   ]
  },
  {
   "cell_type": "markdown",
   "metadata": {},
   "source": [
    "##### Initialize RunManager\n",
    "\n",
    "Reads the runs database and acts as a bookkeeper for the simulations. You can then select runs based on their id's and analyze those simulations"
   ]
  },
  {
   "cell_type": "code",
   "execution_count": null,
   "metadata": {},
   "outputs": [],
   "source": [
    "manager = RunManager(\"../../run/rundb.json\")\n",
    "display(manager.display_all_runs(include_deleted=False, detector_type='xams'))"
   ]
  },
  {
   "cell_type": "markdown",
   "metadata": {},
   "source": [
    "##### Process\n",
    "\n",
    "Processing of the selected data. Here also cuts are defined:\n",
    "- **cut** are the cuts on the event/detector level\n",
    "- **cut_hit** are he cuts on the individual hits (actually a hit here is a cluster made in G4Sim)"
   ]
  },
  {
   "cell_type": "code",
   "execution_count": null,
   "metadata": {},
   "outputs": [],
   "source": [
    "# cut on the global event variables\n",
    "gxe = 0 # gaseous xenon\n",
    "lxe = 1 # liquid xenon\n",
    "nai = 2 # NaI detector\n",
    "\n",
    "cut = lambda data: (data['ndet'][:,lxe] ==1)\n",
    "# additional cuts on the clusters\n",
    "cut_hit = lambda data: (data['eh'] > 0.) & (data['id'] >-1)\n",
    "\n",
    "d = Geant4Analyzer(\"run_04\", first_only=False)\n",
    "d.preprocess_data(cut=cut, cut_hit=cut_hit)\n"
   ]
  },
  {
   "cell_type": "markdown",
   "metadata": {},
   "source": [
    "Now you can play with the selected data. In the 2D distributions you have the possibility to plot the detector geometry superimposed to the data. "
   ]
  },
  {
   "cell_type": "code",
   "execution_count": null,
   "metadata": {},
   "outputs": [],
   "source": [
    "# 2D x-y plot of hits with detector\n",
    "d.plot_2d_histogram_with_detector(view='xy', bins=500, saveFigFilename=\"xams_xy.pdf\")"
   ]
  },
  {
   "cell_type": "code",
   "execution_count": null,
   "metadata": {},
   "outputs": [],
   "source": [
    "# 2D plot rz plot with detector\n",
    "d.plot_2d_histogram_with_detector(view='rz', bins=500, saveFigFilename=\"xams_rz.pdf\")"
   ]
  },
  {
   "cell_type": "code",
   "execution_count": null,
   "metadata": {},
   "outputs": [],
   "source": [
    "# some additional cuts to define the active detector volume\n",
    "cut_active_volume = lambda data: (data['r'] < 35) & (data['zh'] > -65) & (data['zh'] < 5.)\n",
    "\n",
    "import copy\n",
    "\n",
    "d1=copy.deepcopy(d)\n",
    "cut = lambda data: (data['ndet'][:,lxe] == 1)\n",
    "cut_hit = lambda data: (data['eh'] > 0.) & (data['id'] == lxe) & cut_active_volume(data)\n",
    "\n",
    "d1.preprocess_data(cut=cut, cut_hit=cut_hit)\n",
    "d1.plot_histogram('eh', bins=1000)"
   ]
  },
  {
   "cell_type": "code",
   "execution_count": null,
   "metadata": {},
   "outputs": [],
   "source": [
    "d1.plot_2d_histogram_with_detector(view='rz', range=[[0,100],[-75,25]],bins=250)"
   ]
  },
  {
   "cell_type": "code",
   "execution_count": null,
   "metadata": {},
   "outputs": [],
   "source": [
    "import numpy as np\n",
    "# Assuming std1.data['eh'] is your original energy data\n",
    "data = d1.data['eh']\n",
    "\n",
    "# Calculate the Gaussian noise to add to each data point\n",
    "# 0.05 * data represents 5% energy resolution\n",
    "noise = np.random.normal(0, 0.13 * data, size=data.shape)\n",
    "\n",
    "# Add the noise to the original data to simulate smearing\n",
    "smeared_data = data + noise\n",
    "\n",
    "bins = 100\n",
    "# Plot the original histogram\n",
    "plt.hist(data, bins=bins, histtype='step', color='black', label='Geant4 clusters')\n",
    "\n",
    "# Plot the smeared histogram\n",
    "plt.hist(smeared_data, bins=bins, histtype='step', color='red', linestyle='solid', label='Smeared')\n",
    "plt.yscale('log')\n",
    "plt.xlabel('Energy (keV)')\n",
    "plt.legend(frameon=False)\n",
    "\n",
    "plt.savefig(\"energy_spectrum.pdf\")"
   ]
  },
  {
   "cell_type": "code",
   "execution_count": null,
   "metadata": {},
   "outputs": [],
   "source": [
    "h = plt.hist(d1.data['zh'], bins=100)"
   ]
  },
  {
   "cell_type": "code",
   "execution_count": null,
   "metadata": {},
   "outputs": [],
   "source": [
    "fig, ax = plt.subplots()\n",
    "fig.set_size_inches(5,5)\n",
    "\n",
    "\n",
    "h= ax.hist2d(d1.data['r'], d1.data['zh'], bins=500, range=[[0,300],[-125,175]], cmap='viridis', norm=LogNorm())\n",
    "ax.plot([0,400],[-25., -25.],'--',color='grey',linewidth=0.5)\n",
    "\n",
    "gpl = XAMSPlotter(d.geometry)\n",
    "gpl.plot_geometry(ax=ax, view = 'rz')\n",
    "\n",
    "fig.savefig(\"xams_rz.pdf\")\n",
    "plt.show()"
   ]
  },
  {
   "cell_type": "code",
   "execution_count": null,
   "metadata": {},
   "outputs": [],
   "source": []
  }
 ],
 "metadata": {
  "kernelspec": {
   "display_name": "Python 3",
   "language": "python",
   "name": "python3"
  },
  "language_info": {
   "codemirror_mode": {
    "name": "ipython",
    "version": 3
   },
   "file_extension": ".py",
   "mimetype": "text/x-python",
   "name": "python",
   "nbconvert_exporter": "python",
   "pygments_lexer": "ipython3",
   "version": "3.11.9"
  }
 },
 "nbformat": 4,
 "nbformat_minor": 2
}
