{
 "cells": [
  {
   "cell_type": "markdown",
   "metadata": {},
   "source": [
    "#### Data analysis notebook\n",
    "\n",
    "Reads in the data files and plot results\n",
    "\n"
   ]
  },
  {
   "cell_type": "code",
   "execution_count": null,
   "metadata": {},
   "outputs": [],
   "source": [
    "from RunManager import RunManager\n",
    "from Geant4Analyzer import Geant4Analyzer\n",
    "import matplotlib.pyplot as plt"
   ]
  },
  {
   "cell_type": "markdown",
   "metadata": {},
   "source": [
    "##### Initialize RunManager\n",
    "\n",
    "Reads the runs database and acts as a bookkeeper for the simulations. You can then select runs based on their id's and analyze those simulations"
   ]
  },
  {
   "cell_type": "code",
   "execution_count": null,
   "metadata": {},
   "outputs": [],
   "source": [
    "manager = RunManager(\"../../run/rundb.json\")\n",
    "display(manager.display_all_runs(include_deleted=False, detector_type='xams'))"
   ]
  },
  {
   "cell_type": "code",
   "execution_count": null,
   "metadata": {},
   "outputs": [],
   "source": [
    "# manager.delete_run(\"run_11\")"
   ]
  },
  {
   "cell_type": "markdown",
   "metadata": {},
   "source": [
    "##### Process\n",
    "\n",
    "Processing of the selected data. Here also cuts are defined:\n",
    "- **cut** are the cuts on the event/detector level\n",
    "- **cut_hit** are he cuts on the individual hits (actually a hit here is a cluster made in G4Sim)"
   ]
  },
  {
   "cell_type": "code",
   "execution_count": null,
   "metadata": {},
   "outputs": [],
   "source": [
    "# cut on the global event variables\n",
    "gxe = 0 # gaseous xenon\n",
    "lxe = 1 # liquid xenon\n",
    "nai = 2 # NaI detector\n",
    "\n",
    "cut = lambda data: (data['ndet'][:,lxe] ==1)\n",
    "# additional cuts on the clusters\n",
    "cut_hit = lambda data: (data['eh'] > 0.) & (data['id'] >-1)\n",
    "\n",
    "d = Geant4Analyzer(\"run_12\", first_only=False)\n",
    "d.preprocess_data(cut=cut, cut_hit=cut_hit)\n"
   ]
  },
  {
   "cell_type": "markdown",
   "metadata": {},
   "source": [
    "Now you can play with the selected data. In the 2D distributions you have the possibility to plot the detector geometry superimposed to the data. "
   ]
  },
  {
   "cell_type": "code",
   "execution_count": null,
   "metadata": {},
   "outputs": [],
   "source": [
    "# Create side-by-side subplots (1 row, 2 columns)\n",
    "fig, (ax1, ax2) = plt.subplots(1, 2, figsize=(12, 6))\n",
    "\n",
    "# Plot XY view in the first subplot\n",
    "d.plot_2d_histogram_with_detector(view=\"xy\", bins=500, ax=ax1)\n",
    "# Plot RZ view in the second subplot\n",
    "d.plot_2d_histogram_with_detector(view=\"rz\", bins=500, ax=ax2)\n",
    "\n",
    "# Adjust layout for better spacing\n",
    "plt.tight_layout()\n",
    "plt.savefig(\"hitview2d.pdf\")\n"
   ]
  },
  {
   "cell_type": "code",
   "execution_count": null,
   "metadata": {},
   "outputs": [],
   "source": [
    "# cut to define the active detector volume\n",
    "cut_active_volume = lambda data: (data['r'] < 35) & (data['zh'] > -45) & (data['zh'] < 5.)\n",
    "# cut on the energy detcted in the NaI detector\n",
    "cut_nai = lambda data: (data['edet'][:,nai] > 500.) & (data['edet'][:,nai] < 5520.)\n",
    "\n",
    "import copy\n",
    "\n",
    "d1=copy.deepcopy(d)\n",
    "cut = lambda data: (data['ndet'][:,lxe] >= 1) & cut_nai(data)\n",
    "cut_hit = lambda data: (data['eh'] > 0.) & (data['id'] == lxe) & cut_active_volume(data)\n",
    "\n",
    "d1.preprocess_data(cut=cut, cut_hit=cut_hit)\n",
    "d1.plot_histogram('eh', bins=1000, range=(0, 2000))\n",
    "\n",
    "plt.yscale('log')"
   ]
  },
  {
   "cell_type": "code",
   "execution_count": null,
   "metadata": {},
   "outputs": [],
   "source": [
    "d1.plot_2d_histogram_with_detector(view='rz', range=[[0,100],[-75,25]],bins=100)\n",
    "plt.savefig(\"hitview2d_lxe.pdf\")"
   ]
  },
  {
   "cell_type": "code",
   "execution_count": null,
   "metadata": {},
   "outputs": [],
   "source": [
    "def add_noise(data, noise_fraction):\n",
    "    return data + np.random.normal(0, noise_fraction * data, size=data.shape)\n",
    "\n",
    "import numpy as np\n",
    "# Assuming std1.data['eh'] is your original energy data\n",
    "zz = d1.data['zh']\n",
    "rr = d1.data['r']\n",
    "\n",
    "data = d1.data['eh']\n",
    "\n",
    "# Add 5%, 15% noise to the data\n",
    "smeared_data5 = add_noise(data, 0.05)\n",
    "smeared_data15 = add_noise(data, 0.13)\n",
    "\n",
    "bins = 100\n",
    "# Plot the original histogram\n",
    "#plt.hist(data, bins=bins, histtype='step', color='black', label='Geant4 clusters')\n",
    "\n",
    "# Plot the smeared histogram\n",
    "#plt.hist(smeared_data1, bins=bins, histtype='step', color='red', linestyle='solid', label=\"$\\\\sigma_E$ = 1%\")\n",
    "plt.hist(smeared_data5, bins=bins, range=[0,2000], histtype='step', color='green', linestyle='solid', label=\"$\\\\sigma_E$ = 5%\")\n",
    "plt.hist(smeared_data15, bins=bins, range=[0,2000], histtype='step', color='red', linestyle='solid', label=\"$\\\\sigma_E$ = 15%\")\n",
    "\n",
    "plt.yscale('linear')\n",
    "plt.xlabel('Energy (keV)')\n",
    "plt.legend(frameon=False)\n",
    "\n",
    "plt.savefig(\"energy_spectrum.pdf\")"
   ]
  },
  {
   "cell_type": "code",
   "execution_count": null,
   "metadata": {},
   "outputs": [],
   "source": [
    "from matplotlib.colors import LogNorm\n",
    "h = plt.hist2d(rr, smeared_data5, bins=100, range=[[0,35],[0,1000]], norm=LogNorm())"
   ]
  }
 ],
 "metadata": {
  "kernelspec": {
   "display_name": "g4",
   "language": "python",
   "name": "python3"
  },
  "language_info": {
   "codemirror_mode": {
    "name": "ipython",
    "version": 3
   },
   "file_extension": ".py",
   "mimetype": "text/x-python",
   "name": "python",
   "nbconvert_exporter": "python",
   "pygments_lexer": "ipython3",
   "version": "3.11.9"
  }
 },
 "nbformat": 4,
 "nbformat_minor": 2
}
