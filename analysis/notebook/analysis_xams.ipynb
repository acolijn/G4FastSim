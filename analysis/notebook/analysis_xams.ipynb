{
 "cells": [
  {
   "cell_type": "markdown",
   "metadata": {},
   "source": [
    "#### Data analysis notebook\n",
    "\n",
    "Reads in the data files and plot results\n",
    "\n"
   ]
  },
  {
   "cell_type": "code",
   "execution_count": null,
   "metadata": {},
   "outputs": [],
   "source": [
    "from RunManager import RunManager\n",
    "from Geant4Analyzer import Geant4Analyzer\n",
    "from XAMSPlotter import XAMSPlotter\n",
    "import matplotlib.pyplot as plt"
   ]
  },
  {
   "cell_type": "markdown",
   "metadata": {},
   "source": [
    "##### Initialize RunManager\n",
    "\n",
    "Reads the runs database and acts as a bookkeeper for the simulations. You can then select runs based on their id's and analyze those simulations"
   ]
  },
  {
   "cell_type": "code",
   "execution_count": null,
   "metadata": {},
   "outputs": [],
   "source": [
    "manager = RunManager(\"../../run/rundb.json\")\n",
    "display(manager.display_all_runs(include_deleted=False, detector_type='xams'))"
   ]
  },
  {
   "cell_type": "markdown",
   "metadata": {},
   "source": [
    "##### Process\n",
    "\n",
    "Processing of the selected data. Here also cuts are defined:\n",
    "- **cut** are the cuts on the event/detector level\n",
    "- **cut_hit** are he cuts on the individual hits (actually a hit here is a cluster made in G4Sim)"
   ]
  },
  {
   "cell_type": "code",
   "execution_count": null,
   "metadata": {},
   "outputs": [],
   "source": [
    "# cut on the global event variables\n",
    "gxe = 0 # gaseous xenon\n",
    "lxe = 1 # liquid xenon\n",
    "nai = 2 # NaI detector\n",
    "\n",
    "cut = lambda data: (data['ndet'][:,lxe] ==1)\n",
    "# additional cuts on the clusters\n",
    "cut_hit = lambda data: (data['eh'] > 0.) & (data['id'] >-1)\n",
    "\n",
    "d = Geant4Analyzer(\"run_04\", first_only=False)\n",
    "d.preprocess_data(cut=cut, cut_hit=cut_hit)\n"
   ]
  },
  {
   "cell_type": "markdown",
   "metadata": {},
   "source": [
    "Now you can play with the selected data. In the 2D distributions you have the possibility to plot the detector geometry superimposed to the data. "
   ]
  },
  {
   "cell_type": "code",
   "execution_count": null,
   "metadata": {},
   "outputs": [],
   "source": [
    "# Plot XY view in the first subplot\n",
    "d.plot_2d_histogram_with_detector(view=\"xy\", bins=500)"
   ]
  },
  {
   "cell_type": "code",
   "execution_count": null,
   "metadata": {},
   "outputs": [],
   "source": [
    "# 2D plot rz plot with detector\n",
    "d.plot_2d_histogram_with_detector(view='rz', bins=500, saveFigFilename=\"xams_rz.pdf\")"
   ]
  },
  {
   "cell_type": "code",
   "execution_count": null,
   "metadata": {},
   "outputs": [],
   "source": [
    "# cut to define the active detector volume\n",
    "cut_active_volume = lambda data: (data['r'] < 35) & (data['zh'] > -65) & (data['zh'] < 5.)\n",
    "# cut on the energy detcted in the NaI detector\n",
    "cut_nai = lambda data: (data['edet'][:,nai] > -500.) & (data['edet'][:,nai] < 52000.)\n",
    "\n",
    "import copy\n",
    "\n",
    "d1=copy.deepcopy(d)\n",
    "cut = lambda data: (data['ndet'][:,lxe] == 1) & cut_nai(data)\n",
    "cut_hit = lambda data: (data['eh'] > 0.) & (data['id'] == lxe) & cut_active_volume(data)\n",
    "\n",
    "d1.preprocess_data(cut=cut, cut_hit=cut_hit)\n",
    "d1.plot_histogram('eh', bins=1000)"
   ]
  },
  {
   "cell_type": "code",
   "execution_count": null,
   "metadata": {},
   "outputs": [],
   "source": [
    "d1.plot_2d_histogram_with_detector(view='rz', range=[[0,100],[-75,25]],bins=50)"
   ]
  },
  {
   "cell_type": "code",
   "execution_count": null,
   "metadata": {},
   "outputs": [],
   "source": [
    "import numpy as np\n",
    "# Assuming std1.data['eh'] is your original energy data\n",
    "data = d1.data['eh']\n",
    "\n",
    "# Calculate the Gaussian noise to add to each data point\n",
    "# 0.05 * data represents 5% energy resolution\n",
    "#noise = np.random.normal(0, 0.13*np.sqrt(511./data) * data, size=data.shape)\n",
    "noise = np.random.normal(0, 0.13* data, size=data.shape)\n",
    "\n",
    "\n",
    "# Add the noise to the original data to simulate smearing\n",
    "smeared_data = data + noise\n",
    "\n",
    "bins = 100\n",
    "# Plot the original histogram\n",
    "plt.hist(data, bins=bins, histtype='step', color='black', label='Geant4 clusters')\n",
    "\n",
    "# Plot the smeared histogram\n",
    "plt.hist(smeared_data, bins=bins, histtype='step', color='red', linestyle='solid', label='Smeared')\n",
    "plt.yscale('log')\n",
    "plt.xlabel('Energy (keV)')\n",
    "plt.legend(frameon=False)\n",
    "\n",
    "plt.savefig(\"energy_spectrum.pdf\")"
   ]
  },
  {
   "cell_type": "code",
   "execution_count": null,
   "metadata": {},
   "outputs": [],
   "source": [
    "h = plt.hist(d1.data['zh'], bins=100, histtype='step')"
   ]
  }
 ],
 "metadata": {
  "kernelspec": {
   "display_name": "Python 3",
   "language": "python",
   "name": "python3"
  },
  "language_info": {
   "codemirror_mode": {
    "name": "ipython",
    "version": 3
   },
   "file_extension": ".py",
   "mimetype": "text/x-python",
   "name": "python",
   "nbconvert_exporter": "python",
   "pygments_lexer": "ipython3",
   "version": "3.11.9"
  }
 },
 "nbformat": 4,
 "nbformat_minor": 2
}
