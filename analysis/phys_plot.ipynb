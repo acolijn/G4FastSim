{
 "cells": [
  {
   "cell_type": "code",
   "execution_count": null,
   "metadata": {},
   "outputs": [],
   "source": [
    "from RunManager import RunManager\n",
    "\n",
    "import numpy as np\n",
    "import matplotlib.pyplot as plt\n",
    "import uproot\n",
    "\n",
    "manager = RunManager(\"../scripts/rundb.json\") \n",
    "manager.display_all_runs()"
   ]
  },
  {
   "cell_type": "code",
   "execution_count": null,
   "metadata": {},
   "outputs": [],
   "source": [
    "root_file = manager.get_output_root_file(\"run_01\")\n",
    "\n",
    "gp = uproot.open(root_file+\":gam\")"
   ]
  },
  {
   "cell_type": "code",
   "execution_count": null,
   "metadata": {},
   "outputs": [],
   "source": [
    "e = gp[\"e\"].array()\n",
    "att=gp[\"att\"].array()\n",
    "mat=gp[\"mat\"].array()\n",
    "proc=gp[\"proc\"].array()\n",
    "# print unique values from mat array\n",
    "print(np.unique(mat))\n"
   ]
  },
  {
   "cell_type": "code",
   "execution_count": null,
   "metadata": {},
   "outputs": [],
   "source": [
    "def plot_sigma(material):\n",
    "    cut = (mat == material) & (proc == \"compton\")\n",
    "    plt.plot(e[cut],att[cut], linestyle='--', color=\"blue\")\n",
    "    cut = (mat == material) & (proc == \"phot\")\n",
    "    plt.plot(e[cut],att[cut], linestyle='--', color=\"red\")\n",
    "    cut = (mat == material) & (proc == \"tot\")\n",
    "    plt.plot(e[cut],att[cut], color=\"black\")\n",
    "\n",
    "    plt.xlabel(\"Energy (MeV)\")\n",
    "    plt.ylabel(\"$\\\\sigma$ (barn)\")\n",
    "    plt.xscale(\"log\")\n",
    "    plt.yscale(\"log\")\n",
    "\n",
    "def plot_att(material):\n",
    "    cut = (mat == material) & (proc == \"att\")\n",
    "    plt.plot(e[cut],att[cut]/100, color=\"black\")\n",
    "\n",
    "    plt.xlabel(\"Energy (MeV)\")\n",
    "    plt.ylabel(\"Mass attenuation (cm2/g)\")\n",
    "    plt.xscale(\"log\")\n",
    "    plt.yscale(\"log\")"
   ]
  },
  {
   "cell_type": "code",
   "execution_count": null,
   "metadata": {},
   "outputs": [],
   "source": [
    "plot_sigma(\"LXe\")"
   ]
  },
  {
   "cell_type": "code",
   "execution_count": null,
   "metadata": {},
   "outputs": [],
   "source": [
    "plot_att(\"LXe\")\t\n"
   ]
  },
  {
   "cell_type": "code",
   "execution_count": null,
   "metadata": {},
   "outputs": [],
   "source": [
    "cut = (mat == \"LXe\") & (proc == \"att\")\n",
    "ec = e[cut]\n",
    "ac= att[cut]"
   ]
  },
  {
   "cell_type": "code",
   "execution_count": null,
   "metadata": {},
   "outputs": [],
   "source": [
    "for i in range(len(ec)):\n",
    "    print(ec[i],ac[i])"
   ]
  },
  {
   "cell_type": "code",
   "execution_count": null,
   "metadata": {},
   "outputs": [],
   "source": []
  }
 ],
 "metadata": {
  "kernelspec": {
   "display_name": "Python 3",
   "language": "python",
   "name": "python3"
  },
  "language_info": {
   "codemirror_mode": {
    "name": "ipython",
    "version": 3
   },
   "file_extension": ".py",
   "mimetype": "text/x-python",
   "name": "python",
   "nbconvert_exporter": "python",
   "pygments_lexer": "ipython3",
   "version": "3.11.9"
  }
 },
 "nbformat": 4,
 "nbformat_minor": 2
}
