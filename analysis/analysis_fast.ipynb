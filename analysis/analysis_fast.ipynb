{
 "cells": [
  {
   "cell_type": "markdown",
   "metadata": {},
   "source": [
    "#### Data analysis notebook\n",
    "\n",
    "Reads in the data files and plot results\n",
    "\n"
   ]
  },
  {
   "cell_type": "code",
   "execution_count": null,
   "metadata": {},
   "outputs": [],
   "source": [
    "from RunManager import RunManager\n",
    "from Geant4Analyzer import Geant4Analyzer\n",
    "import matplotlib.pyplot as plt\n",
    "import numpy as np\n"
   ]
  },
  {
   "cell_type": "code",
   "execution_count": null,
   "metadata": {},
   "outputs": [],
   "source": [
    "manager = RunManager(\"../run/rundb.json\")\n",
    "display(manager.display_all_runs(include_deleted=False))"
   ]
  },
  {
   "cell_type": "code",
   "execution_count": null,
   "metadata": {},
   "outputs": [],
   "source": [
    "# cut on the global event variables\n",
    "lxe = 0 # liquid xenon\n",
    "\n",
    "cut = lambda data: (data['ncomp'][:,lxe] + data['nphot'][:,lxe]  == 1 ) & (data['ndet'][:,lxe] == 1) \n",
    "# additional cuts on the clusters\n",
    "cut_hit = lambda data: (data['r'] < 1050.) & (np.abs(data['zh']) < 1104.) & (data['eh'] > 0.) & (data['id'] == lxe)\n",
    "#cut_hit = lambda data: (data['eh'] > 0.)\n",
    "\n",
    "fast = Geant4Analyzer(\"run_67\", first_only=False)\n",
    "fast.preprocess_data(cut=cut, cut_hit=cut_hit)\n"
   ]
  },
  {
   "cell_type": "code",
   "execution_count": null,
   "metadata": {},
   "outputs": [],
   "source": [
    "ax = fast.plot_histogram(\"eh\", bins=100, range=(-1700, 1700), show=False)\n",
    "#ax = fast.plot_histogram(\"eh\", bins=100, range=(-1700, 1700), show=False, ax=ax)\n",
    " \n",
    "ax.set_ylim(1e-3, 1e5)\n",
    "ax.set_yscale('log')\n",
    "plt.show()"
   ]
  },
  {
   "cell_type": "code",
   "execution_count": null,
   "metadata": {},
   "outputs": [],
   "source": [
    "ax = std.plot_histogram(\"r\", bins=100, range=(0, 1700), show=False)\n",
    "ax = fast.plot_histogram(\"r\", bins=100, range=(0, 1700), show=False, ax=ax)\n",
    "\n",
    "ax.set_ylim(1e-2, 1e5)\n",
    "ax.set_yscale('log')\n",
    "plt.show()"
   ]
  },
  {
   "cell_type": "code",
   "execution_count": null,
   "metadata": {},
   "outputs": [],
   "source": [
    "h = plt.hist(std.data['edet'][:,lxe], bins=100, range=(0, 1000), histtype='step', label='std')\n",
    "h = plt.hist(fast.data['edet'][:,lxe], weights=np.exp(fast.data['w']),bins=100, range=(0, 1000), histtype='step', label='fast')\n",
    "plt.yscale('log')"
   ]
  },
  {
   "cell_type": "code",
   "execution_count": null,
   "metadata": {},
   "outputs": [],
   "source": [
    "h = plt.hist(std.data['edet'][:,lxe], bins=100, range=(0, 1000), histtype='step', label='std')\n",
    "plt.yscale('log')\n"
   ]
  },
  {
   "cell_type": "code",
   "execution_count": null,
   "metadata": {},
   "outputs": [],
   "source": [
    "h = plt.hist(std.data['edet'][:,lxe], bins=100, range=(0, 1000), histtype='step', label='std')\n"
   ]
  }
 ],
 "metadata": {
  "kernelspec": {
   "display_name": "Python 3",
   "language": "python",
   "name": "python3"
  },
  "language_info": {
   "codemirror_mode": {
    "name": "ipython",
    "version": 3
   },
   "file_extension": ".py",
   "mimetype": "text/x-python",
   "name": "python",
   "nbconvert_exporter": "python",
   "pygments_lexer": "ipython3",
   "version": "3.11.9"
  }
 },
 "nbformat": 4,
 "nbformat_minor": 2
}
