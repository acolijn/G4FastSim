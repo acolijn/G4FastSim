{
 "cells": [
  {
   "cell_type": "markdown",
   "metadata": {},
   "source": [
    "#### Data analysis notebook\n",
    "\n",
    "Reads in the data files and plot results\n",
    "\n"
   ]
  },
  {
   "cell_type": "code",
   "execution_count": null,
   "metadata": {},
   "outputs": [],
   "source": [
    "from RunManager import RunManager\n",
    "from Geant4Analyzer import Geant4Analyzer\n",
    "import matplotlib.pyplot as plt\n",
    "import numpy as np\n"
   ]
  },
  {
   "cell_type": "code",
   "execution_count": null,
   "metadata": {},
   "outputs": [],
   "source": [
    "manager = RunManager(\"../run/rundb.json\")\n",
    "display(manager.display_all_runs(include_deleted=False))"
   ]
  },
  {
   "cell_type": "code",
   "execution_count": null,
   "metadata": {},
   "outputs": [],
   "source": [
    "# cut on the global event variables\n",
    "lxe = 0 # liquid xenon\n",
    "\n",
    "#cut = lambda data: (data['ncomp'][:,lxe] + data['nphot'][:,lxe]  == 1 ) & (data['ndet'][:,lxe] == 1) \n",
    "cut = lambda data: (data['ndet'][:,lxe] == 1) \n",
    "\n",
    "# additional cuts on the clusters\n",
    "#cut_hit = lambda data: (data['r'] < 1000.) & (np.abs(data['zh']) < 1000.) & (data['eh'] > 0.) & (data['id'] == lxe)\n",
    "cut_hit = lambda data: (data['eh'] > 0.)\n",
    "\n",
    "fast = Geant4Analyzer(\"run_01\", first_only=True)\n",
    "fast.preprocess_data(cut=cut, cut_hit=cut_hit)\n",
    "\n",
    "std = Geant4Analyzer(\"run_02\", first_only=True)\n",
    "std.preprocess_data(cut=cut, cut_hit=cut_hit)\n"
   ]
  },
  {
   "cell_type": "code",
   "execution_count": null,
   "metadata": {},
   "outputs": [],
   "source": [
    "emax = 1200\n",
    "nbin = 100\n",
    "\n",
    "ax = std.plot_histogram(\"eh\", bins=nbin, range=(0, emax), show=False)\n",
    "ax = fast.plot_histogram(\"eh\", bins=nbin, range=(0, emax), show=False, ax=ax)\n",
    " \n",
    "ax.set_xlim(0, 1100)\n",
    "ax.set_ylim(1e-3, 1e5)\n",
    "ax.set_yscale('log')\n",
    "plt.show()"
   ]
  },
  {
   "cell_type": "code",
   "execution_count": null,
   "metadata": {},
   "outputs": [],
   "source": [
    "ax = std.plot_histogram(\"r\", bins=100, range=(0, 1700), show=False)\n",
    "ax = fast.plot_histogram(\"r\", bins=100, range=(0, 1700), show=False, ax=ax)\n",
    "\n",
    "ax.set_ylim(1e-2, 1e5)\n",
    "ax.set_yscale('log')\n",
    "plt.show()"
   ]
  },
  {
   "cell_type": "code",
   "execution_count": null,
   "metadata": {},
   "outputs": [],
   "source": [
    "h = plt.hist(std.data['eh'], bins=100, range=(0, 1000), histtype='step', label='std')\n",
    "h = plt.hist(fast.data['eh'], weights= np.exp(fast.data['wh']),bins=100, range=(0, 1000), histtype='step', label='fast')\n",
    "\n",
    "plt.yscale('log')\n"
   ]
  },
  {
   "cell_type": "code",
   "execution_count": null,
   "metadata": {},
   "outputs": [],
   "source": [
    "dd = std.data['eh'] - "
   ]
  },
  {
   "cell_type": "code",
   "execution_count": null,
   "metadata": {},
   "outputs": [],
   "source": []
  }
 ],
 "metadata": {
  "kernelspec": {
   "display_name": "Python 3",
   "language": "python",
   "name": "python3"
  },
  "language_info": {
   "codemirror_mode": {
    "name": "ipython",
    "version": 3
   },
   "file_extension": ".py",
   "mimetype": "text/x-python",
   "name": "python",
   "nbconvert_exporter": "python",
   "pygments_lexer": "ipython3",
   "version": "3.11.9"
  }
 },
 "nbformat": 4,
 "nbformat_minor": 2
}
