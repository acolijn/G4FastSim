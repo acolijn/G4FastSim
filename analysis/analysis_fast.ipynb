{
 "cells": [
  {
   "cell_type": "markdown",
   "metadata": {},
   "source": [
    "#### Data analysis notebook\n",
    "\n",
    "Reads in the data files and plot results\n",
    "\n"
   ]
  },
  {
   "cell_type": "code",
   "execution_count": 1,
   "metadata": {},
   "outputs": [],
   "source": [
    "from RunManager import RunManager\n",
    "from Geant4Analyzer import Geant4Analyzer\n",
    "import matplotlib.pyplot as plt\n",
    "import numpy as np\n"
   ]
  },
  {
   "cell_type": "code",
   "execution_count": 19,
   "metadata": {},
   "outputs": [
    {
     "data": {
      "text/html": [
       "<div>\n",
       "<style scoped>\n",
       "    .dataframe tbody tr th:only-of-type {\n",
       "        vertical-align: middle;\n",
       "    }\n",
       "\n",
       "    .dataframe tbody tr th {\n",
       "        vertical-align: top;\n",
       "    }\n",
       "\n",
       "    .dataframe thead th {\n",
       "        text-align: right;\n",
       "    }\n",
       "</style>\n",
       "<table border=\"1\" class=\"dataframe\">\n",
       "  <thead>\n",
       "    <tr style=\"text-align: right;\">\n",
       "      <th></th>\n",
       "      <th>id</th>\n",
       "      <th>particle</th>\n",
       "      <th>ion</th>\n",
       "      <th>energy</th>\n",
       "      <th>fastSimulation</th>\n",
       "      <th>maxScatters</th>\n",
       "      <th>maxEnergy</th>\n",
       "      <th>sourceVolume</th>\n",
       "      <th>outputDir</th>\n",
       "      <th>outputFile</th>\n",
       "      <th>numEvents</th>\n",
       "      <th>numJobs</th>\n",
       "      <th>randomSeed</th>\n",
       "      <th>settingsFile</th>\n",
       "      <th>status</th>\n",
       "    </tr>\n",
       "  </thead>\n",
       "  <tbody>\n",
       "    <tr>\n",
       "      <th>0</th>\n",
       "      <td>run_01</td>\n",
       "      <td>gamma</td>\n",
       "      <td>None</td>\n",
       "      <td>1. MeV</td>\n",
       "      <td>false</td>\n",
       "      <td>-999</td>\n",
       "      <td>-1.0 MeV</td>\n",
       "      <td></td>\n",
       "      <td>/data/xenon/acolijn/G4FastSim/20240917_161721</td>\n",
       "      <td>std</td>\n",
       "      <td>10000</td>\n",
       "      <td>1</td>\n",
       "      <td>714114</td>\n",
       "      <td>settings.json</td>\n",
       "      <td>active</td>\n",
       "    </tr>\n",
       "    <tr>\n",
       "      <th>1</th>\n",
       "      <td>run_02</td>\n",
       "      <td>geantino</td>\n",
       "      <td>None</td>\n",
       "      <td>1. MeV</td>\n",
       "      <td>true</td>\n",
       "      <td>1</td>\n",
       "      <td>1.2 MeV</td>\n",
       "      <td></td>\n",
       "      <td>/data/xenon/acolijn/G4FastSim/20240918_102454</td>\n",
       "      <td>fast</td>\n",
       "      <td>100000</td>\n",
       "      <td>1</td>\n",
       "      <td>82757</td>\n",
       "      <td>settings.json</td>\n",
       "      <td>active</td>\n",
       "    </tr>\n",
       "    <tr>\n",
       "      <th>2</th>\n",
       "      <td>run_03</td>\n",
       "      <td>gamma</td>\n",
       "      <td>None</td>\n",
       "      <td>1. MeV</td>\n",
       "      <td>false</td>\n",
       "      <td>-999</td>\n",
       "      <td>-1.0 MeV</td>\n",
       "      <td></td>\n",
       "      <td>/data/xenon/acolijn/G4FastSim/20240918_102545</td>\n",
       "      <td>std</td>\n",
       "      <td>100000</td>\n",
       "      <td>1</td>\n",
       "      <td>552843</td>\n",
       "      <td>settings.json</td>\n",
       "      <td>active</td>\n",
       "    </tr>\n",
       "    <tr>\n",
       "      <th>3</th>\n",
       "      <td>run_04</td>\n",
       "      <td>gamma</td>\n",
       "      <td>None</td>\n",
       "      <td>1. MeV</td>\n",
       "      <td>false</td>\n",
       "      <td>-999</td>\n",
       "      <td>-1.0 MeV</td>\n",
       "      <td></td>\n",
       "      <td>/data/xenon/acolijn/G4FastSim/20240918_103046</td>\n",
       "      <td>std</td>\n",
       "      <td>100000</td>\n",
       "      <td>1</td>\n",
       "      <td>521551</td>\n",
       "      <td>settings.json</td>\n",
       "      <td>active</td>\n",
       "    </tr>\n",
       "    <tr>\n",
       "      <th>4</th>\n",
       "      <td>run_05</td>\n",
       "      <td>gamma</td>\n",
       "      <td>None</td>\n",
       "      <td>1. MeV</td>\n",
       "      <td>false</td>\n",
       "      <td>-999</td>\n",
       "      <td>-1.0 MeV</td>\n",
       "      <td></td>\n",
       "      <td>/data/xenon/acolijn/G4FastSim/20240918_143454</td>\n",
       "      <td>std</td>\n",
       "      <td>100000</td>\n",
       "      <td>1</td>\n",
       "      <td>777109</td>\n",
       "      <td>settings.json</td>\n",
       "      <td>active</td>\n",
       "    </tr>\n",
       "    <tr>\n",
       "      <th>5</th>\n",
       "      <td>run_06</td>\n",
       "      <td>gamma</td>\n",
       "      <td>None</td>\n",
       "      <td>1. MeV</td>\n",
       "      <td>false</td>\n",
       "      <td>-999</td>\n",
       "      <td>-1.0 MeV</td>\n",
       "      <td></td>\n",
       "      <td>/data/xenon/acolijn/G4FastSim/20240918_150140</td>\n",
       "      <td>std</td>\n",
       "      <td>100000</td>\n",
       "      <td>1</td>\n",
       "      <td>219042</td>\n",
       "      <td>settings.json</td>\n",
       "      <td>active</td>\n",
       "    </tr>\n",
       "  </tbody>\n",
       "</table>\n",
       "</div>"
      ],
      "text/plain": [
       "       id  particle   ion  energy fastSimulation  maxScatters maxEnergy  \\\n",
       "0  run_01     gamma  None  1. MeV          false         -999  -1.0 MeV   \n",
       "1  run_02  geantino  None  1. MeV           true            1   1.2 MeV   \n",
       "2  run_03     gamma  None  1. MeV          false         -999  -1.0 MeV   \n",
       "3  run_04     gamma  None  1. MeV          false         -999  -1.0 MeV   \n",
       "4  run_05     gamma  None  1. MeV          false         -999  -1.0 MeV   \n",
       "5  run_06     gamma  None  1. MeV          false         -999  -1.0 MeV   \n",
       "\n",
       "  sourceVolume                                      outputDir outputFile  \\\n",
       "0               /data/xenon/acolijn/G4FastSim/20240917_161721        std   \n",
       "1               /data/xenon/acolijn/G4FastSim/20240918_102454       fast   \n",
       "2               /data/xenon/acolijn/G4FastSim/20240918_102545        std   \n",
       "3               /data/xenon/acolijn/G4FastSim/20240918_103046        std   \n",
       "4               /data/xenon/acolijn/G4FastSim/20240918_143454        std   \n",
       "5               /data/xenon/acolijn/G4FastSim/20240918_150140        std   \n",
       "\n",
       "   numEvents  numJobs  randomSeed   settingsFile  status  \n",
       "0      10000        1      714114  settings.json  active  \n",
       "1     100000        1       82757  settings.json  active  \n",
       "2     100000        1      552843  settings.json  active  \n",
       "3     100000        1      521551  settings.json  active  \n",
       "4     100000        1      777109  settings.json  active  \n",
       "5     100000        1      219042  settings.json  active  "
      ]
     },
     "metadata": {},
     "output_type": "display_data"
    }
   ],
   "source": [
    "manager = RunManager(\"../run/rundb.json\")\n",
    "display(manager.display_all_runs(include_deleted=False))"
   ]
  },
  {
   "cell_type": "code",
   "execution_count": 26,
   "metadata": {},
   "outputs": [
    {
     "name": "stdout",
     "output_type": "stream",
     "text": [
      "Initialized Geant4Analyzer with run_id=run_02, label=\n",
      "Loading data from ['/data/xenon/acolijn/G4FastSim/20240918_102454/fast_0.root']\n",
      "Loading /data/xenon/acolijn/G4FastSim/20240918_102454/fast_0.root\n",
      "Data loaded from 1 files\n",
      "Data loaded from ['/data/xenon/acolijn/G4FastSim/20240918_102454/fast_0.root']\n",
      "Initialized Geant4Analyzer with run_id=run_06, label=\n",
      "Loading data from ['/data/xenon/acolijn/G4FastSim/20240918_150140/std_0.root']\n",
      "Loading /data/xenon/acolijn/G4FastSim/20240918_150140/std_0.root\n",
      "Data loaded from 1 files\n",
      "Data loaded from ['/data/xenon/acolijn/G4FastSim/20240918_150140/std_0.root']\n"
     ]
    }
   ],
   "source": [
    "# cut on the global event variables\n",
    "lxe = 1 # liquid xenon\n",
    "\n",
    "cut = lambda data: (data['ncomp'][:,lxe] + data['nphot'][:,lxe] + data['ncomp'][:,0] + data['nphot'][:,0] == 1 ) & (data['ndet'][:,lxe] == 1) & (data['ndet'][:,0] == 0)\n",
    "# additional cuts on the clusters\n",
    "cut_hit = lambda data: (data['r'] < 1050.) & (np.abs(data['zh']) < 1104.) & (data['eh'] > 0.) & (data['id'] == lxe)\n",
    "#cut_hit = lambda data: (data['eh'] > 0.)\n",
    "\n",
    "fast = Geant4Analyzer(\"run_02\", first_only=False)\n",
    "fast.preprocess_data(cut=cut, cut_hit=cut_hit)\n",
    "\n",
    "std = Geant4Analyzer(\"run_06\", first_only=False)\n",
    "std.preprocess_data(cut=cut, cut_hit=cut_hit)\n"
   ]
  },
  {
   "cell_type": "code",
   "execution_count": 27,
   "metadata": {},
   "outputs": [
    {
     "name": "stdout",
     "output_type": "stream",
     "text": [
      "integral = 0.0\n",
      "integral = 0.0\n"
     ]
    },
    {
     "data": {
      "image/png": "[encoded data removed]",
      "text/plain": [
       "<Figure size 640x480 with 1 Axes>"
      ]
     },
     "metadata": {},
     "output_type": "display_data"
    }
   ],
   "source": [
    "ax = std.plot_histogram(\"eh\", bins=100, range=(-1700, 1700), show=False)\n",
    "ax = fast.plot_histogram(\"eh\", bins=100, range=(-1700, 1700), show=False, ax=ax)\n",
    "\n",
    "ax.set_ylim(1e-3, 1e5)\n",
    "ax.set_yscale('log')\n",
    "plt.show()"
   ]
  },
  {
   "cell_type": "code",
   "execution_count": 25,
   "metadata": {},
   "outputs": [
    {
     "name": "stdout",
     "output_type": "stream",
     "text": [
      "integral = 698.0\n",
      "integral = 748.185854910866\n"
     ]
    },
    {
     "data": {
      "image/png": "[encoded data removed]",
      "text/plain": [
       "<Figure size 640x480 with 1 Axes>"
      ]
     },
     "metadata": {},
     "output_type": "display_data"
    }
   ],
   "source": [
    "ax = std.plot_histogram(\"r\", bins=100, range=(0, 1700), show=False)\n",
    "ax = fast.plot_histogram(\"r\", bins=100, range=(0, 1700), show=False, ax=ax)\n",
    "\n",
    "ax.set_ylim(1e-2, 1e5)\n",
    "ax.set_yscale('log')\n",
    "plt.show()"
   ]
  },
  {
   "cell_type": "code",
   "execution_count": 11,
   "metadata": {},
   "outputs": [
    {
     "ename": "IndexError",
     "evalue": "index 1 is out of bounds for axis 1 with size 0",
     "output_type": "error",
     "traceback": [
      "\u001b[0;31m---------------------------------------------------------------------------\u001b[0m",
      "\u001b[0;31mIndexError\u001b[0m                                Traceback (most recent call last)",
      "Cell \u001b[0;32mIn[11], line 2\u001b[0m\n\u001b[1;32m      1\u001b[0m h \u001b[38;5;241m=\u001b[39m plt\u001b[38;5;241m.\u001b[39mhist(std\u001b[38;5;241m.\u001b[39mdata[\u001b[38;5;124m'\u001b[39m\u001b[38;5;124medet\u001b[39m\u001b[38;5;124m'\u001b[39m][:,lxe], bins\u001b[38;5;241m=\u001b[39m\u001b[38;5;241m100\u001b[39m, \u001b[38;5;28mrange\u001b[39m\u001b[38;5;241m=\u001b[39m(\u001b[38;5;241m0\u001b[39m, \u001b[38;5;241m1000\u001b[39m), histtype\u001b[38;5;241m=\u001b[39m\u001b[38;5;124m'\u001b[39m\u001b[38;5;124mstep\u001b[39m\u001b[38;5;124m'\u001b[39m, label\u001b[38;5;241m=\u001b[39m\u001b[38;5;124m'\u001b[39m\u001b[38;5;124mstd\u001b[39m\u001b[38;5;124m'\u001b[39m)\n\u001b[0;32m----> 2\u001b[0m h \u001b[38;5;241m=\u001b[39m plt\u001b[38;5;241m.\u001b[39mhist(\u001b[43mfast\u001b[49m\u001b[38;5;241;43m.\u001b[39;49m\u001b[43mdata\u001b[49m\u001b[43m[\u001b[49m\u001b[38;5;124;43m'\u001b[39;49m\u001b[38;5;124;43medet\u001b[39;49m\u001b[38;5;124;43m'\u001b[39;49m\u001b[43m]\u001b[49m\u001b[43m[\u001b[49m\u001b[43m:\u001b[49m\u001b[43m,\u001b[49m\u001b[43mlxe\u001b[49m\u001b[43m]\u001b[49m, weights\u001b[38;5;241m=\u001b[39mnp\u001b[38;5;241m.\u001b[39mexp(fast\u001b[38;5;241m.\u001b[39mdata[\u001b[38;5;124m'\u001b[39m\u001b[38;5;124mw\u001b[39m\u001b[38;5;124m'\u001b[39m]),bins\u001b[38;5;241m=\u001b[39m\u001b[38;5;241m100\u001b[39m, \u001b[38;5;28mrange\u001b[39m\u001b[38;5;241m=\u001b[39m(\u001b[38;5;241m0\u001b[39m, \u001b[38;5;241m1000\u001b[39m), histtype\u001b[38;5;241m=\u001b[39m\u001b[38;5;124m'\u001b[39m\u001b[38;5;124mstep\u001b[39m\u001b[38;5;124m'\u001b[39m, label\u001b[38;5;241m=\u001b[39m\u001b[38;5;124m'\u001b[39m\u001b[38;5;124mfast\u001b[39m\u001b[38;5;124m'\u001b[39m)\n\u001b[1;32m      3\u001b[0m plt\u001b[38;5;241m.\u001b[39myscale(\u001b[38;5;124m'\u001b[39m\u001b[38;5;124mlog\u001b[39m\u001b[38;5;124m'\u001b[39m)\n",
      "\u001b[0;31mIndexError\u001b[0m: index 1 is out of bounds for axis 1 with size 0"
     ]
    },
    {
     "data": {
      "image/png": "[encoded data removed]",
      "text/plain": [
       "<Figure size 640x480 with 1 Axes>"
      ]
     },
     "metadata": {},
     "output_type": "display_data"
    }
   ],
   "source": [
    "h = plt.hist(std.data['edet'][:,lxe], bins=100, range=(0, 1000), histtype='step', label='std')\n",
    "h = plt.hist(fast.data['edet'][:,lxe], weights=np.exp(fast.data['w']),bins=100, range=(0, 1000), histtype='step', label='fast')\n",
    "plt.yscale('log')"
   ]
  },
  {
   "cell_type": "code",
   "execution_count": 13,
   "metadata": {},
   "outputs": [
    {
     "data": {
      "image/png": "[encoded data removed]",
      "text/plain": [
       "<Figure size 640x480 with 1 Axes>"
      ]
     },
     "metadata": {},
     "output_type": "display_data"
    }
   ],
   "source": [
    "h = plt.hist(std.data['edet'][:,lxe], bins=100, range=(0, 1000), histtype='step', label='std')\n",
    "plt.yscale('log')\n"
   ]
  },
  {
   "cell_type": "code",
   "execution_count": null,
   "metadata": {},
   "outputs": [],
   "source": [
    "h = plt.hist(std.data['edet'][:,lxe], bins=100, range=(0, 1000), histtype='step', label='std')\n"
   ]
  }
 ],
 "metadata": {
  "kernelspec": {
   "display_name": "Python 3",
   "language": "python",
   "name": "python3"
  },
  "language_info": {
   "codemirror_mode": {
    "name": "ipython",
    "version": 3
   },
   "file_extension": ".py",
   "mimetype": "text/x-python",
   "name": "python",
   "nbconvert_exporter": "python",
   "pygments_lexer": "ipython3",
   "version": "3.11.9"
  }
 },
 "nbformat": 4,
 "nbformat_minor": 2
}
