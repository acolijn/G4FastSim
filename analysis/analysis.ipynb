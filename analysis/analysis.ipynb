{
 "cells": [
  {
   "cell_type": "markdown",
   "metadata": {},
   "source": [
    "#### Data analysis notebook\n",
    "\n",
    "Reads in the data files and plot results\n",
    "\n",
    "  * Instantiate analyzer class object **Geant4Analyzer(root_filename, label)**\n",
    "  * Then apply cuts to the data\n",
    "  * Plotting with the built-in function **plot_histogram()**\n",
    "  * For user defined plots, just access the data elements directly: **Geant4Analyzer.data[element_name]**. Get the data element names from **Geant4Analyzer.data.keys()**"
   ]
  },
  {
   "cell_type": "code",
   "execution_count": null,
   "metadata": {},
   "outputs": [],
   "source": [
    "from RunManager import RunManager\n",
    "from Geant4Analyzer import Geant4Analyzer\n",
    "import matplotlib.pyplot as plt\n",
    "import numpy as np"
   ]
  },
  {
   "cell_type": "code",
   "execution_count": null,
   "metadata": {},
   "outputs": [],
   "source": [
    "manager = RunManager(\"../run/rundb.json\")\n",
    "display(manager.display_all_runs(include_deleted=False))"
   ]
  },
  {
   "cell_type": "code",
   "execution_count": null,
   "metadata": {},
   "outputs": [],
   "source": [
    "# cut on the global event variables\n",
    "cut = lambda data: (data['ncomp'] + data['nphot'] == 1) & (data['type'] == 0) & (data['e'] < 1200.) & (data['nclus'] == 1)\n",
    "#cut = lambda data: (data['type'] == 0) & (data['e'] < 1200.) & (data['nclus'] == 1)\n",
    "\n",
    "# additional cuts on the clusters\n",
    "cut_hit = lambda data: (data['r'] < 1000.) & (np.abs(data['zh']) < 1000.) \n",
    "\n",
    "std = Geant4Analyzer(\"run_01\", label=\"Geant4 standard\", first_only=False)\n",
    "std.preprocess_data(cut=cut, cut_hit=cut_hit)\n",
    "\n",
    "fast = Geant4Analyzer(\"run_02\", label=\"Accelerated MC\", first_only=False)\n",
    "fast.preprocess_data(cut=cut, cut_hit=cut_hit)\n",
    "\n",
    "#fast2 = Geant4Analyzer(\"run_03\", label=\"Accelerated MC\", first_only=False)\n",
    "#fast2.preprocess_data(cut=cut, cut_hit=cut_hit)\n"
   ]
  },
  {
   "cell_type": "code",
   "execution_count": null,
   "metadata": {},
   "outputs": [],
   "source": [
    "nbin = 500\n",
    "ax = std.plot_histogram('r', bins=nbin, range=(-1500,1500), show=False)\n",
    "ax = fast.plot_histogram('r', bins=nbin, ax=ax, range=(-1500,1500), show=False)\n",
    "\n",
    "plt.yscale('log')\n",
    "plt.ylim(1e-5, 1e6)\n",
    "plt.xlim(0, 1250)\n",
    "\n",
    "plt.legend(frameon=False)\n",
    "plt.show()\n"
   ]
  },
  {
   "cell_type": "code",
   "execution_count": null,
   "metadata": {},
   "outputs": [],
   "source": [
    "plt.hist(std.data['nclus'], bins=10, range=(-0.5,9.5), histtype='step', label=std.label)"
   ]
  },
  {
   "cell_type": "code",
   "execution_count": null,
   "metadata": {},
   "outputs": [],
   "source": [
    "plt.hist(std.data['r'])"
   ]
  },
  {
   "cell_type": "code",
   "execution_count": null,
   "metadata": {},
   "outputs": [],
   "source": [
    "plt.hist(fast.data['nclus'], bins=10, range=(-0.5,9.5))\n",
    "plt.hist(std.data['nclus'], bins=10, range=(-0.5,9.5))\n",
    "plt.yscale('log')"
   ]
  },
  {
   "cell_type": "code",
   "execution_count": null,
   "metadata": {},
   "outputs": [],
   "source": [
    "bins = 1000\n",
    "h = plt.hist2d(std.data['xh'], std.data['yh'], bins=bins, range=((-1500, 1500), (-1500, 1500)))\n",
    "circle = plt.Circle((0,0), std.settings['geometry_settings']['innerCryostatRadius'], color='w', fill=False, linewidth=1)\n",
    "#plt.gca().add_artist(circle)\n",
    "plt.show()"
   ]
  },
  {
   "cell_type": "code",
   "execution_count": null,
   "metadata": {},
   "outputs": [],
   "source": [
    "from matplotlib.colors import LogNorm\n",
    "\n",
    "bins = 100\n",
    "h = plt.hist2d(std.data['r'], std.data['zh'], bins=bins, range=((0, 1500), (-1500, 1500)), norm=LogNorm())\n",
    "plt.show()\n",
    "h = plt.hist2d(fast.data['r'], fast.data['zh'], bins=bins, range=((0, 1500), (-1500, 1500)), norm=LogNorm())\n",
    "\n",
    "plt.show()"
   ]
  },
  {
   "cell_type": "code",
   "execution_count": null,
   "metadata": {},
   "outputs": [],
   "source": []
  },
  {
   "cell_type": "code",
   "execution_count": null,
   "metadata": {},
   "outputs": [],
   "source": []
  },
  {
   "cell_type": "code",
   "execution_count": null,
   "metadata": {},
   "outputs": [],
   "source": [
    "plt.hist(std.data['eh'], bins=100, range=(0, 1200), histtype='step', color='g', label='Geant4 standard')\n",
    "plt.hist(fast.data['eh'], weights=np.exp(fast.data['wh']), bins=100, range=(0, 1200), histtype='step', color='b', label='Accelerated')\n",
    "\n",
    "plt.ylim(1e-2, 1e4)\n",
    "plt.yscale('log')\n",
    "plt.show()\n",
    "\n"
   ]
  },
  {
   "cell_type": "code",
   "execution_count": null,
   "metadata": {},
   "outputs": [],
   "source": [
    "plt.hist(std.data['nclus'][(std.data['ncomp']+std.data['nphot'])==1], bins=10, range=(-0.5,9.5), histtype='step', color='g', label='Geant4 standard')\n",
    "plt.hist(fast.data['nclus'], weights=np.exp(fast.data['w']), bins=10, range=(-0.5,9.5), histtype='step', color='b', label='Accelerated')\n",
    "\n",
    "plt.show()"
   ]
  },
  {
   "cell_type": "code",
   "execution_count": null,
   "metadata": {},
   "outputs": [],
   "source": [
    "from RunManager import RunManager\n",
    "from Geant4Analyzer import Geant4Analyzer\n",
    "import matplotlib.pyplot as plt\n",
    "import numpy as np\n",
    "\n",
    "std_pencil  = Geant4Analyzer(\"run_11\", first_only=False)\n",
    "fast_pencil = Geant4Analyzer(\"run_10\", first_only=False)\n",
    "\n",
    "# fiducial volume definition\n",
    "r_fid = std_pencil.settings['fiducialRadius']\n",
    "z_fid = std_pencil.settings['fiducialHeight']/2.\n",
    "e_cut = fast_pencil.settings['maxEnergy']\n",
    "\n",
    "# cut on the global event variables\n",
    "#cut = lambda data: (data['ncomp'] + data['nphot'] == 1) & (data['type'] == 0) & (data['e'] < 1200.) \n",
    "cut = lambda data: (data['nphot']==0) & (data['ncomp'] == 1) & (data['type'] == 0) & (data['e'] < e_cut) \n",
    "\n",
    "# additional cuts on the clusters\n",
    "cut_hit = lambda data: (data['r'] < r_fid) & (np.abs(data['zh']) < z_fid) & (data['eh'] > 0) & (data['eh'] < 600)\n",
    "\n",
    "std_pencil.preprocess_data(cut=cut, cut_hit=cut_hit)\n",
    "fast_pencil.preprocess_data(cut=cut, cut_hit=cut_hit)"
   ]
  },
  {
   "cell_type": "code",
   "execution_count": null,
   "metadata": {},
   "outputs": [],
   "source": [
    "nbin = 10\n",
    "ax = std_pencil.plot_histogram('nclus', bins=nbin, range=(-0.5,9.5), show=False)\n",
    "ax = fast_pencil.plot_histogram('nclus', bins=nbin, ax=ax, range=(-0.5,9.5), show=False)\n",
    "\n",
    "plt.yscale('log')\n",
    "#plt.ylim(1e-1, 1e5)\n",
    "#plt.xlim(0, 1250)\n",
    "\n",
    "plt.legend(frameon=False)\n",
    "plt.show()"
   ]
  },
  {
   "cell_type": "code",
   "execution_count": null,
   "metadata": {},
   "outputs": [],
   "source": [
    "nbin =100\n",
    "ax = std_pencil.plot_histogram('e', bins=nbin, range=(0.,1100), show=False)\n",
    "ax = fast_pencil.plot_histogram('e', bins=nbin, ax=ax, range=(0.,1000), show=False)\n",
    "plt.yscale('log')\n",
    "plt.ylim(1e-1, 1e5)\n",
    "plt.show()"
   ]
  },
  {
   "cell_type": "code",
   "execution_count": null,
   "metadata": {},
   "outputs": [],
   "source": []
  },
  {
   "cell_type": "code",
   "execution_count": null,
   "metadata": {},
   "outputs": [],
   "source": [
    "plt.hist(std.data['e'][((std.data['ncomp']+std.data['nphot'])==1) & (std.data['type']==0)], bins=100, range=(-0.5,1100.5), histtype='step', color='g', label='Geant4 standard')\n",
    "plt.hist(fast.data['e'], weights=np.exp(fast.data['w']), bins=100, range=(-0.5,1100.5), histtype='step', color='b', label='Accelerated')\n",
    "\n",
    "plt.show()"
   ]
  },
  {
   "cell_type": "code",
   "execution_count": null,
   "metadata": {},
   "outputs": [],
   "source": [
    "fast.data['w']"
   ]
  },
  {
   "cell_type": "code",
   "execution_count": null,
   "metadata": {},
   "outputs": [],
   "source": [
    "\n"
   ]
  }
 ],
 "metadata": {
  "kernelspec": {
   "display_name": "Python 3",
   "language": "python",
   "name": "python3"
  },
  "language_info": {
   "codemirror_mode": {
    "name": "ipython",
    "version": 3
   },
   "file_extension": ".py",
   "mimetype": "text/x-python",
   "name": "python",
   "nbconvert_exporter": "python",
   "pygments_lexer": "ipython3",
   "version": "3.11.9"
  }
 },
 "nbformat": 4,
 "nbformat_minor": 2
}
