{
 "cells": [
  {
   "cell_type": "code",
   "execution_count": 19,
   "metadata": {},
   "outputs": [],
   "source": [
    "from ROOT import TFile, TCanvas\n",
    "from ROOT import gStyle, gROOT, gBenchmark"
   ]
  },
  {
   "cell_type": "code",
   "execution_count": 9,
   "metadata": {},
   "outputs": [],
   "source": []
  },
  {
   "cell_type": "code",
   "execution_count": 12,
   "metadata": {},
   "outputs": [],
   "source": [
    "ntpl = f1.Get(\"ev\")"
   ]
  },
  {
   "cell_type": "code",
   "execution_count": 13,
   "metadata": {},
   "outputs": [
    {
     "name": "stderr",
     "output_type": "stream",
     "text": [
      "Info in <TCanvas::MakeDefCanvas>:  created default TCanvas with name c1\n"
     ]
    }
   ],
   "source": [
    "ntpl.Draw(\"w\")"
   ]
  },
  {
   "cell_type": "code",
   "execution_count": 25,
   "metadata": {},
   "outputs": [
    {
     "name": "stdout",
     "output_type": "stream",
     "text": [
      "ntuple1   : Real Time = 145.86 seconds Cpu Time =   0.50 seconds\n"
     ]
    },
    {
     "name": "stderr",
     "output_type": "stream",
     "text": [
      "Warning in <TCanvas::Constructor>: Deleting canvas with same name: c1\n"
     ]
    }
   ],
   "source": [
    "c1 = TCanvas('c1','The Ntuple canvas',200,10,700,780)\n",
    "gBenchmark.Start('ntuple1')\n",
    "f1 = TFile(\"../build/G4FastSim.root\")\n",
    "ntpl = gROOT.FindObject(\"ev\")\n",
    "ntpl.Draw(\"w\")\n",
    "gBenchmark.Show('ntuple1')\n"
   ]
  },
  {
   "cell_type": "code",
   "execution_count": 23,
   "metadata": {},
   "outputs": [
    {
     "data": {
      "text/plain": [
       "2"
      ]
     },
     "execution_count": 23,
     "metadata": {},
     "output_type": "execute_result"
    },
    {
     "name": "stdout",
     "output_type": "stream",
     "text": [
      "***********************************************************************************************************************\n",
      "*    Row   * Instance * Edep.Edep *       w.w *     xp.xp *     yp.yp *     zp.zp *        eh *        xh *        yh *\n",
      "***********************************************************************************************************************\n",
      "*        0 *        0 *         0 *         1 * -552.7258 * 845.52062 * 598.80726 *           *           *           *\n",
      "*        1 *        0 *      0.01 *         1 * 135.81071 * -122.7544 * -599.5991 *      0.01 *        10 *        20 *\n",
      "***********************************************************************************************************************\n"
     ]
    }
   ],
   "source": [
    "ntpl.Scan()"
   ]
  },
  {
   "cell_type": "code",
   "execution_count": null,
   "metadata": {},
   "outputs": [],
   "source": []
  }
 ],
 "metadata": {
  "kernelspec": {
   "display_name": "Python 3",
   "language": "python",
   "name": "python3"
  },
  "language_info": {
   "codemirror_mode": {
    "name": "ipython",
    "version": 3
   },
   "file_extension": ".py",
   "mimetype": "text/x-python",
   "name": "python",
   "nbconvert_exporter": "python",
   "pygments_lexer": "ipython3",
   "version": "3.11.9"
  }
 },
 "nbformat": 4,
 "nbformat_minor": 2
}
