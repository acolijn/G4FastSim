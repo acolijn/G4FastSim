{
 "cells": [
  {
   "cell_type": "code",
   "execution_count": 1,
   "metadata": {},
   "outputs": [],
   "source": [
    "from RunManager import RunManager\n",
    "import numpy as np\n",
    "import matplotlib.pyplot as plt\n",
    "import uproot\n",
    "import awkward as ak"
   ]
  },
  {
   "cell_type": "code",
   "execution_count": 2,
   "metadata": {},
   "outputs": [
    {
     "data": {
      "text/html": [
       "<div>\n",
       "<style scoped>\n",
       "    .dataframe tbody tr th:only-of-type {\n",
       "        vertical-align: middle;\n",
       "    }\n",
       "\n",
       "    .dataframe tbody tr th {\n",
       "        vertical-align: top;\n",
       "    }\n",
       "\n",
       "    .dataframe thead th {\n",
       "        text-align: right;\n",
       "    }\n",
       "</style>\n",
       "<table border=\"1\" class=\"dataframe\">\n",
       "  <thead>\n",
       "    <tr style=\"text-align: right;\">\n",
       "      <th></th>\n",
       "      <th>id</th>\n",
       "      <th>particle</th>\n",
       "      <th>energy</th>\n",
       "      <th>fastSimulation</th>\n",
       "      <th>maxScatters</th>\n",
       "      <th>maxEnergy</th>\n",
       "      <th>sourceVolume</th>\n",
       "      <th>outputDir</th>\n",
       "      <th>outputFile</th>\n",
       "      <th>settingsFile</th>\n",
       "      <th>numEvents</th>\n",
       "      <th>status</th>\n",
       "    </tr>\n",
       "  </thead>\n",
       "  <tbody>\n",
       "    <tr>\n",
       "      <th>0</th>\n",
       "      <td>run_01</td>\n",
       "      <td>geantino</td>\n",
       "      <td>1.MeV</td>\n",
       "      <td>true</td>\n",
       "      <td>1</td>\n",
       "      <td>0.2 MeV</td>\n",
       "      <td>InnerCryostat</td>\n",
       "      <td>/data/xenon/acolijn/G4FastSim/20240723_164712</td>\n",
       "      <td>fast.root</td>\n",
       "      <td>settings.json</td>\n",
       "      <td>1000000</td>\n",
       "      <td>active</td>\n",
       "    </tr>\n",
       "    <tr>\n",
       "      <th>1</th>\n",
       "      <td>run_02</td>\n",
       "      <td>gamma</td>\n",
       "      <td>1.MeV</td>\n",
       "      <td>false</td>\n",
       "      <td>-999</td>\n",
       "      <td>-1 MeV</td>\n",
       "      <td>InnerCryostat</td>\n",
       "      <td>/data/xenon/acolijn/G4FastSim/20240723_164859</td>\n",
       "      <td>std.root</td>\n",
       "      <td>settings.json</td>\n",
       "      <td>1000000</td>\n",
       "      <td>active</td>\n",
       "    </tr>\n",
       "  </tbody>\n",
       "</table>\n",
       "</div>"
      ],
      "text/plain": [
       "       id  particle energy fastSimulation  maxScatters maxEnergy  \\\n",
       "0  run_01  geantino  1.MeV           true            1   0.2 MeV   \n",
       "1  run_02     gamma  1.MeV          false         -999    -1 MeV   \n",
       "\n",
       "    sourceVolume                                      outputDir outputFile  \\\n",
       "0  InnerCryostat  /data/xenon/acolijn/G4FastSim/20240723_164712  fast.root   \n",
       "1  InnerCryostat  /data/xenon/acolijn/G4FastSim/20240723_164859   std.root   \n",
       "\n",
       "    settingsFile  numEvents  status  \n",
       "0  settings.json    1000000  active  \n",
       "1  settings.json    1000000  active  "
      ]
     },
     "execution_count": 2,
     "metadata": {},
     "output_type": "execute_result"
    }
   ],
   "source": [
    "manager = RunManager(\"../scripts/config.json\")\n",
    "manager.display_all_runs()"
   ]
  },
  {
   "cell_type": "code",
   "execution_count": 3,
   "metadata": {},
   "outputs": [],
   "source": [
    "file = uproot.open(manager.get_output_root_file(\"run_01\"))\n",
    "\n",
    "gp = file[\"diff_xsec\"]\n",
    "ev = file[\"ev\"].arrays()"
   ]
  },
  {
   "cell_type": "code",
   "execution_count": 4,
   "metadata": {},
   "outputs": [
    {
     "name": "stdout",
     "output_type": "stream",
     "text": [
      "['Ar', 'C', 'Cr', 'F', 'Fe', 'H', 'N', 'Ni', 'O', 'Xe']\n"
     ]
    }
   ],
   "source": [
    "cost=gp[\"cost\"].array()\n",
    "ff=gp[\"ff\"].array()\n",
    "mat=gp[\"mat\"].array()\n",
    "kn=gp[\"kn\"].array()\n",
    "z=gp[\"Z\"].array()\n",
    "\n",
    "# print unique values from mat array\n",
    "print(np.unique(mat))\n"
   ]
  },
  {
   "cell_type": "code",
   "execution_count": 5,
   "metadata": {},
   "outputs": [],
   "source": [
    "import numpy as np\n",
    "import matplotlib.pyplot as plt\n",
    "\n",
    "def plot_klein_nishina(material, cosThetaMin, normalize=True):\n",
    "    cut = (mat == material)\n",
    "    y_values_z = kn[cut] * z[cut]\n",
    "    y_values_ff = kn[cut] * ff[cut]\n",
    "    cost_cut = cost[cut]\n",
    "\n",
    "    if normalize:\n",
    "        # Calculate normalization over the histogram range\n",
    "        hist_min = cosThetaMin\n",
    "        hist_max = 1.0\n",
    "        mask = (cost_cut >= hist_min) & (cost_cut <= hist_max)\n",
    "        \n",
    "        area_z = np.trapz(y_values_z[mask], cost_cut[mask])\n",
    "        area_ff = np.trapz(y_values_ff[mask], cost_cut[mask])\n",
    "        y_values_z = y_values_z / area_z\n",
    "        y_values_ff = y_values_ff / area_ff\n",
    "\n",
    "    plt.plot(cost_cut, y_values_z, linestyle='--', color=\"black\", label='Klein-Nishina')\n",
    "    plt.plot(cost_cut, y_values_ff, linestyle='-', color=\"blue\", label='Klein-Nishina + Form Factor')\n",
    "    plt.xlabel(\"cos($\\\\theta$)\")\n",
    "    plt.ylabel(\"Normalized d$\\sigma$/d$\\Omega$ (a.u.)\")\n",
    "    plt.legend()\n",
    "\n",
    "#### Function to Plot Histogram\n",
    "\n",
    "def plot_hist(threshold=0.01, normalize=True):\n",
    "    h = file['cost']\n",
    "    bin_contents = h.values()\n",
    "    bin_edges = h.axis().edges()\n",
    "    bin_widths = np.diff(bin_edges)\n",
    "\n",
    "    if normalize:\n",
    "        area_hist = np.sum(bin_contents * bin_widths)\n",
    "        bin_contents = bin_contents / area_hist\n",
    "\n",
    "    \n",
    "    # Find the first bin over the threshold\n",
    "    cosTheta_min = None\n",
    "    for content, edge in zip(bin_contents, bin_edges[:-1]):\n",
    "        if content > threshold:\n",
    "            cosTheta_min = edge\n",
    "            break\n",
    "\n",
    "    plt.hist(bin_edges[:-1], bins=bin_edges, weights=bin_contents, histtype='step', edgecolor='red', label='MC generated')\n",
    "    plt.xlabel('$\\\\cos(\\\\theta)$')\n",
    "    plt.ylabel('Normalized $dN / d\\\\cos(\\\\theta)$')\n",
    "    plt.title('Compton scatter angles for Xe')\n",
    "    plt.grid(True)\n",
    "    plt.legend()\n",
    "    \n",
    "    return cosTheta_min\n"
   ]
  },
  {
   "cell_type": "code",
   "execution_count": 10,
   "metadata": {},
   "outputs": [
    {
     "data": {
      "image/png": "[encoded data removed]",
      "text/plain": [
       "<Figure size 640x480 with 1 Axes>"
      ]
     },
     "metadata": {},
     "output_type": "display_data"
    }
   ],
   "source": [
    "#fig, ax = plt.subplots()\n",
    "\n",
    "# Plot the histogram and retrieve the bin edges\n",
    "cosThetaMin = plot_hist()\n",
    "\n",
    "# Plot the Klein-Nishina distribution\n",
    "plot_klein_nishina('Xe', cosThetaMin)\n",
    "\n",
    "plt.xlim(0.8, 1.0)\n",
    "plt.show()"
   ]
  },
  {
   "cell_type": "code",
   "execution_count": null,
   "metadata": {},
   "outputs": [],
   "source": []
  },
  {
   "cell_type": "code",
   "execution_count": 1,
   "metadata": {},
   "outputs": [],
   "source": [
    "# import hdf5 library\n",
    "import h5py"
   ]
  },
  {
   "cell_type": "code",
   "execution_count": null,
   "metadata": {},
   "outputs": [],
   "source": []
  },
  {
   "cell_type": "code",
   "execution_count": null,
   "metadata": {},
   "outputs": [],
   "source": []
  }
 ],
 "metadata": {
  "kernelspec": {
   "display_name": "Python 3",
   "language": "python",
   "name": "python3"
  },
  "language_info": {
   "codemirror_mode": {
    "name": "ipython",
    "version": 3
   },
   "file_extension": ".py",
   "mimetype": "text/x-python",
   "name": "python",
   "nbconvert_exporter": "python",
   "pygments_lexer": "ipython3",
   "version": "3.11.9"
  }
 },
 "nbformat": 4,
 "nbformat_minor": 2
}
